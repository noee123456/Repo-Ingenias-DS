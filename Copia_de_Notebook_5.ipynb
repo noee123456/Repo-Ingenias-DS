{
  "nbformat": 4,
  "nbformat_minor": 0,
  "metadata": {
    "kernelspec": {
      "display_name": "Python 3",
      "language": "python",
      "name": "python3"
    },
    "language_info": {
      "codemirror_mode": {
        "name": "ipython",
        "version": 3
      },
      "file_extension": ".py",
      "mimetype": "text/x-python",
      "name": "python",
      "nbconvert_exporter": "python",
      "pygments_lexer": "ipython3",
      "version": "3.7.3"
    },
    "colab": {
      "provenance": []
    }
  },
  "cells": [
    {
      "cell_type": "markdown",
      "metadata": {
        "id": "Gp2WddtV9IwG"
      },
      "source": [
        "# Programa Ingenias+ Data Science"
      ]
    },
    {
      "cell_type": "markdown",
      "metadata": {
        "id": "H4M1yVbf9IwH"
      },
      "source": [
        "Como dijimos en clases anteriores, Python tiene implementadas muchas librerias para poder trabajar con datos. En la clase de hoy trabajaremos con una de ellas: `Numpy`."
      ]
    },
    {
      "cell_type": "markdown",
      "metadata": {
        "id": "GdTT8WeL9IwI"
      },
      "source": [
        "Antes de comenzar, vamos a hablar un poco de esta libreria o modulo.\n",
        "\n",
        "**Numpy** es una librería optimizada para realizar cálculos numéricos con vectores y matrices. A diferencia de otros lenguajes de programación, Python no posee en su estructura central la figura de matrices. Eso quiere decir que para poder trabajar con esta estructura de datos deberiamos trabajar con listas de listas. NumPy introduce el concepto de arrays o matrices."
      ]
    },
    {
      "cell_type": "markdown",
      "metadata": {
        "id": "qWkq3EHK9IwK"
      },
      "source": [
        "Al ser de código abierto, `numpy` posee una documentación muy amplia que es **SIEMPRE RECOMENDABLE** consultar."
      ]
    },
    {
      "cell_type": "markdown",
      "metadata": {
        "id": "nxe3KLUO9IwL"
      },
      "source": [
        "- [Documentacion NumPy](https://devdocs.io/numpy/)"
      ]
    },
    {
      "cell_type": "markdown",
      "metadata": {
        "id": "l1Ay3nSs9IwN"
      },
      "source": [
        "## Clase 4: Introduccion a NumPy"
      ]
    },
    {
      "cell_type": "markdown",
      "metadata": {
        "id": "X03mviQS9IyL"
      },
      "source": [
        "# Ejercicios\n",
        "\n",
        "1. Crear un arreglo de ceros de longitud 12\n",
        "2. Crear un arreglo de longitud 10 con ceros en todas sus posiciones y un 10 en la posición número 5\n",
        "3. Crear un arreglo que tenga los números del 10 al 49\n",
        "4. Crear una arreglo 2d de shape (3, 3) que tenga los números del 0 al 8\n",
        "5. Crear un arreglo de números aleatorios de longitud 100 y obtener su media y varianza\n",
        "6. Calcular la media de un arreglo usando np.sum\n",
        "7. Calcular la varianza de un arreglo usando np.sum y np.mean\n",
        "8. Crear un array de números aleatorios usando np.random.randn.\n"
      ]
    },
    {
      "cell_type": "code",
      "metadata": {
        "id": "G0NMKT609IyM",
        "outputId": "3f57bd27-dd88-4e05-82d4-ffd602de7085",
        "colab": {
          "base_uri": "https://localhost:8080/"
        }
      },
      "source": [
        "import numpy as np\n",
        "#1\n",
        "mi_lista = (0,0,0,0,0,0,0,0,0,0)\n",
        "mi_array = np.array(mi_lista)\n",
        "print(mi_array)"
      ],
      "execution_count": null,
      "outputs": [
        {
          "output_type": "stream",
          "name": "stdout",
          "text": [
            "[0 0 0 0 0 0 0 0 0 0]\n"
          ]
        }
      ]
    },
    {
      "cell_type": "code",
      "source": [
        "#2\n",
        "mi_array = np.zeros(10)\n",
        "mi_array[5] = 10\n",
        "print(mi_array)\n"
      ],
      "metadata": {
        "id": "pfpcMAyfhWjY",
        "outputId": "c94a9caf-bf0b-41a6-b781-c69648a4cb8a",
        "colab": {
          "base_uri": "https://localhost:8080/"
        }
      },
      "execution_count": null,
      "outputs": [
        {
          "output_type": "stream",
          "name": "stdout",
          "text": [
            "[ 0.  0.  0.  0.  0. 10.  0.  0.  0.  0.]\n"
          ]
        }
      ]
    },
    {
      "cell_type": "code",
      "source": [
        "#3\n",
        "mi_array = np.arange(10,50)\n",
        "print(mi_array)"
      ],
      "metadata": {
        "id": "uSZRHchKhqEH",
        "outputId": "48e77775-a0fd-4f00-dbc4-8a59edaa8adb",
        "colab": {
          "base_uri": "https://localhost:8080/"
        }
      },
      "execution_count": null,
      "outputs": [
        {
          "output_type": "stream",
          "name": "stdout",
          "text": [
            "[10 11 12 13 14 15 16 17 18 19 20 21 22 23 24 25 26 27 28 29 30 31 32 33\n",
            " 34 35 36 37 38 39 40 41 42 43 44 45 46 47 48 49]\n"
          ]
        }
      ]
    },
    {
      "cell_type": "code",
      "source": [
        "#4\n",
        "mi_array = np.zeros((3,3))\n",
        "mi_array = np.arange(0,9)\n",
        "print(mi_array)"
      ],
      "metadata": {
        "id": "8ryANsNmhvz9",
        "outputId": "b399ca22-13e7-43d6-c7f7-366905bf0b11",
        "colab": {
          "base_uri": "https://localhost:8080/"
        }
      },
      "execution_count": null,
      "outputs": [
        {
          "output_type": "stream",
          "name": "stdout",
          "text": [
            "[0 1 2 3 4 5 6 7 8]\n"
          ]
        }
      ]
    },
    {
      "cell_type": "code",
      "source": [
        "#5\n",
        "mi_array = np.random.randn(100)\n",
        "media = np.mean(mi_array)\n",
        "varianza = np.var(mi_array)\n",
        "print(mi_array)\n",
        "print(media)\n",
        "print(varianza)"
      ],
      "metadata": {
        "id": "PdzgZoKPiSS4",
        "outputId": "c23993e3-7143-4899-938e-2b2b86139629",
        "colab": {
          "base_uri": "https://localhost:8080/"
        }
      },
      "execution_count": null,
      "outputs": [
        {
          "output_type": "stream",
          "name": "stdout",
          "text": [
            "[ 0.34218865  0.31312635 -0.45393958 -0.10972752 -1.03738754 -0.94487065\n",
            "  0.16913529 -1.03589971  0.8648101  -0.41048038 -2.14015261 -1.35701325\n",
            " -0.4817804  -1.3424742   0.1039612   0.24306729  0.74281367  0.02610834\n",
            "  0.25197785  0.08974012  0.19069225  0.88500748 -0.53195214 -0.25442825\n",
            "  1.72556021 -2.13462313  1.19087895 -0.51828025  0.95622163  1.00992446\n",
            "  0.35497705  0.85624802 -0.07097002  0.54720808  0.16984682  0.56566509\n",
            "  0.42059555 -0.09440541  0.23861205  0.40315937 -0.66358122  1.35322275\n",
            " -0.28320291  1.66461868 -1.42623841  0.27966643  0.36710749  0.15248636\n",
            " -0.67621316 -2.66600162  1.08662233 -1.1704735  -0.37793181  0.34385789\n",
            " -0.89514043  1.80205323 -0.79928853  2.07449037 -0.6919565   0.22864563\n",
            "  0.46246496  1.00031372  1.59410267  0.51160417  0.76355679 -1.54722045\n",
            "  0.06654529 -0.28536995  0.07788352  1.44487389  0.21164355  0.78168256\n",
            " -0.86940434  0.23680506  0.89158613 -0.9899626   0.72343549 -1.45613812\n",
            "  1.49836037  0.84820979 -0.39385756 -0.67743545  0.45479525  1.56005837\n",
            " -1.64424601 -0.46271253 -1.20665128 -0.07687762 -0.45459732  0.38914355\n",
            " -0.14041538  0.30307902  0.9987098   0.22525257  0.75930053  0.08435288\n",
            " -0.915271   -1.37703386  0.79931133  0.21803011]\n",
            "0.03853791792979015\n",
            "0.8613491894531633\n"
          ]
        }
      ]
    },
    {
      "cell_type": "code",
      "source": [
        "#6\n",
        "mi_array2= (1,2,3,4,5,6)\n",
        "mi_array2 = np.sum(mi_array2)\n",
        "print(mi_array2)"
      ],
      "metadata": {
        "id": "1rLuPYn5jDe9",
        "outputId": "efde03b1-dbf0-421f-99aa-f1192d46bb51",
        "colab": {
          "base_uri": "https://localhost:8080/"
        }
      },
      "execution_count": null,
      "outputs": [
        {
          "output_type": "stream",
          "name": "stdout",
          "text": [
            "21\n"
          ]
        }
      ]
    },
    {
      "cell_type": "code",
      "source": [
        "#7\n",
        "mi_array2= (1,2,3,4,5,6)\n",
        "mi_array2 = np.mean(mi_array2)\n",
        "print(mi_array2)"
      ],
      "metadata": {
        "id": "Dq_Qviurjc07",
        "outputId": "bafaef49-8142-43d2-cdf3-b1b166363a0d",
        "colab": {
          "base_uri": "https://localhost:8080/"
        }
      },
      "execution_count": null,
      "outputs": [
        {
          "output_type": "stream",
          "name": "stdout",
          "text": [
            "3.5\n"
          ]
        }
      ]
    },
    {
      "cell_type": "code",
      "source": [
        "#8\n",
        "mi_array2= (1,2,3,4,5,6)\n",
        "mi_array2 = np.random.randn(100)\n",
        "print(mi_array2)"
      ],
      "metadata": {
        "id": "hp7Jebq2jiwb",
        "outputId": "5797deef-5df6-410f-c891-3c4a46328e0f",
        "colab": {
          "base_uri": "https://localhost:8080/"
        }
      },
      "execution_count": null,
      "outputs": [
        {
          "output_type": "stream",
          "name": "stdout",
          "text": [
            "[ 2.18026847  1.0205907   1.18973504 -0.41377834  1.63819534 -0.14954418\n",
            " -0.15166457 -0.22301905  0.0180582  -0.03135504 -1.10846935 -0.3555396\n",
            "  0.06898135 -0.35867979 -0.21932144 -0.24124201 -0.61048605  0.49592659\n",
            "  1.91497023 -1.12095535  0.16058981  0.26550309 -0.91855047  0.48008763\n",
            " -0.09561969 -1.24181757 -0.82824945 -0.16538168  0.1946035   0.02013031\n",
            "  1.34773309  0.24526996  0.84406154 -0.20143028  0.14558225  0.95831771\n",
            "  0.23418815 -0.01899965 -0.24463855  0.07110762 -0.23518893 -0.69369821\n",
            " -1.64854442 -0.41543302 -1.40316384  0.66596034 -0.15987055  1.49257217\n",
            "  0.28688004 -0.88389762 -0.18973062  0.7320466  -1.15533076 -0.63864892\n",
            "  0.55756681 -0.32806066 -0.92189089  1.03685271 -0.1521105  -0.83669448\n",
            " -0.25549412 -1.16730139  0.31411253 -1.65533205  0.2737245  -0.47521754\n",
            " -1.15724887 -0.59898264  0.9796264  -0.44630152  1.24605527  0.25132967\n",
            " -2.15208678  0.93399515 -0.27347003 -2.05135853  2.12048743  1.9724709\n",
            "  0.95206276 -1.32151228 -1.54043448  1.59605753 -1.0076231  -0.7249573\n",
            "  0.32067401  0.77956819 -0.23832469  0.84049661 -0.0988788   0.85801883\n",
            " -1.29714596 -2.61763584  1.2776618   1.67661521  0.08873952  1.32313255\n",
            "  1.19960441  0.89464636 -1.6528639   1.27636148]\n"
          ]
        }
      ]
    }
  ]
}